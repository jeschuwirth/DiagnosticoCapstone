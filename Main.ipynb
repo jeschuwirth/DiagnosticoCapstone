{
 "cells": [
  {
   "cell_type": "markdown",
   "metadata": {
    "id": "eHXAgj0_GQae"
   },
   "source": [
    "# Evaluacion-Diagnostico Capstone 2022-1\n",
    "### Juan Schuwirth Montero 1764030J"
   ]
  },
  {
   "cell_type": "code",
   "execution_count": null,
   "metadata": {
    "id": "12OJpj-1f_xz"
   },
   "outputs": [],
   "source": [
    "import json\n",
    "import pandas as pd"
   ]
  },
  {
   "cell_type": "code",
   "execution_count": 57,
   "metadata": {
    "colab": {
     "base_uri": "https://localhost:8080/",
     "height": 491
    },
    "id": "mZX609e8FppP",
    "outputId": "e13f4f63-49f3-427c-b3b6-c7e3b708a28f"
   },
   "outputs": [],
   "source": [
    "data = pd.read_json(\"farmers-protest-tweets-2021-03-5.json\", lines=True)"
   ]
  },
  {
   "cell_type": "markdown",
   "metadata": {},
   "source": [
    "### P1"
   ]
  },
  {
   "cell_type": "code",
   "execution_count": 3,
   "metadata": {},
   "outputs": [],
   "source": [
    "def tweets_mas_retweeteados(data):\n",
    "    ord = data.sort_values(by = [\"retweetCount\"], ascending=False)\n",
    "    return ord[:10]"
   ]
  },
  {
   "cell_type": "markdown",
   "metadata": {},
   "source": [
    "### P2"
   ]
  },
  {
   "cell_type": "code",
   "execution_count": 55,
   "metadata": {},
   "outputs": [],
   "source": [
    "def top_10_users(data):\n",
    "    user_id = []\n",
    "    user_displayname = []\n",
    "    \n",
    "    for user in data[\"user\"]:\n",
    "        user_id.append( user[\"id\"] )\n",
    "        user_displayname.append( user[\"displayname\"] )\n",
    "    \n",
    "    data[\"userID\"] = user_id\n",
    "    data[\"displayname\"] = user_displayname\n",
    "    \n",
    "    table = data[\"displayname\"].value_counts()[:10]\n",
    "    \n",
    "    return table"
   ]
  },
  {
   "cell_type": "markdown",
   "metadata": {},
   "source": [
    "### Main"
   ]
  },
  {
   "cell_type": "code",
   "execution_count": 56,
   "metadata": {},
   "outputs": [
    {
     "name": "stdout",
     "output_type": "stream",
     "text": [
      "\n",
      "    ¿Qué información quieres ver?\n",
      "    1. Los top 10 tweets más retweeted\n",
      "    2. Los top 10 usuarios en función a la cantidad de tweets que emitieron.\n",
      "    3. Los top 10 días donde hay más tweets.\n",
      "    4. Top 10 hashtags más usados.\n",
      "    0. Terminar programa\n",
      "    \n",
      "2\n"
     ]
    },
    {
     "data": {
      "text/plain": [
       "Harjot Singh                                          7296\n",
       "ਕਿਸਾਨAndolajivi ravinder kaur चोकीदार ही कातिल है     2091\n",
       "Jaspal Kaur Bains.For love of Punjab,Sikhi & India    1991\n",
       "Jot                                                   1873\n",
       "Theinactiveactivist                                   1806\n",
       "🍊raman🚜                                               1722\n",
       "Jaz 🇨🇦🌾ਗਰਮ ਖਿਆਲੀ 📌                                    1502\n",
       "JassG                                                 1460\n",
       "Kisan Bot🚜🌾                                           1453\n",
       "mohd khaliquzzama                                     1446\n",
       "Name: displayname, dtype: int64"
      ]
     },
     "metadata": {},
     "output_type": "display_data"
    }
   ],
   "source": [
    "def main():\n",
    "    opciones = {\n",
    "    1: tweets_mas_retweeteados,\n",
    "    2: top_10_users\n",
    "    }\n",
    "    print(\"\"\"\n",
    "    ¿Qué información quieres ver?\n",
    "    1. Los top 10 tweets más retweeted\n",
    "    2. Los top 10 usuarios en función a la cantidad de tweets que emitieron.\n",
    "    3. Los top 10 días donde hay más tweets.\n",
    "    4. Top 10 hashtags más usados.\n",
    "    0. Terminar programa\n",
    "    \"\"\")\n",
    "    inp = input()\n",
    "\n",
    "    if not inp.isnumeric():\n",
    "        print(\"ingreso inválido, debe ser un número\") \n",
    "        \n",
    "    elif int(inp) in opciones:\n",
    "        display( opciones[int(inp)](data) )\n",
    "\n",
    "if __name__ == \"__main__\":\n",
    "    main()"
   ]
  }
 ],
 "metadata": {
  "colab": {
   "collapsed_sections": [],
   "name": "Untitled0.ipynb",
   "provenance": []
  },
  "kernelspec": {
   "display_name": "Python 3",
   "language": "python",
   "name": "python3"
  },
  "language_info": {
   "codemirror_mode": {
    "name": "ipython",
    "version": 3
   },
   "file_extension": ".py",
   "mimetype": "text/x-python",
   "name": "python",
   "nbconvert_exporter": "python",
   "pygments_lexer": "ipython3",
   "version": "3.7.9"
  }
 },
 "nbformat": 4,
 "nbformat_minor": 1
}
