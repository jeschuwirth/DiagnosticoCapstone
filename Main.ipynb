{
 "cells": [
  {
   "cell_type": "markdown",
   "metadata": {
    "id": "eHXAgj0_GQae"
   },
   "source": [
    "# Evaluacion-Diagnostico Capstone 2022-1\n",
    "### Juan Schuwirth Montero 1764030J"
   ]
  },
  {
   "cell_type": "code",
   "execution_count": null,
   "metadata": {
    "id": "12OJpj-1f_xz"
   },
   "outputs": [],
   "source": [
    "import json\n",
    "import pandas as pd\n",
    "import regex as re"
   ]
  },
  {
   "cell_type": "code",
   "execution_count": null,
   "metadata": {
    "colab": {
     "base_uri": "https://localhost:8080/",
     "height": 491
    },
    "id": "mZX609e8FppP",
    "outputId": "e13f4f63-49f3-427c-b3b6-c7e3b708a28f"
   },
   "outputs": [],
   "source": [
    "data = pd.read_json(\"farmers-protest-tweets-2021-03-5.json\", lines=True)"
   ]
  },
  {
   "cell_type": "markdown",
   "metadata": {},
   "source": [
    "### P1"
   ]
  },
  {
   "cell_type": "code",
   "execution_count": null,
   "metadata": {},
   "outputs": [],
   "source": [
    "def tweets_mas_retweeteados(data):\n",
    "    ord = data.sort_values(by = [\"retweetCount\"], ascending=False)\n",
    "    return ord[:10]"
   ]
  },
  {
   "cell_type": "markdown",
   "metadata": {},
   "source": [
    "### P2"
   ]
  },
  {
   "cell_type": "code",
   "execution_count": null,
   "metadata": {},
   "outputs": [],
   "source": [
    "def top_10_users(data):\n",
    "    user_id = []\n",
    "    user_displayname = []\n",
    "    \n",
    "    for user in data[\"user\"]:\n",
    "        user_id.append( user[\"id\"] )\n",
    "        user_displayname.append( user[\"displayname\"] )\n",
    "    \n",
    "    data[\"userID\"] = user_id\n",
    "    data[\"displayname\"] = user_displayname\n",
    "    \n",
    "    table = data[\"displayname\"].value_counts()[:10]\n",
    "    \n",
    "    return table"
   ]
  },
  {
   "cell_type": "markdown",
   "metadata": {},
   "source": [
    "### P3"
   ]
  },
  {
   "cell_type": "code",
   "execution_count": null,
   "metadata": {},
   "outputs": [],
   "source": [
    "def top_10_days(data):\n",
    "    dates = data[\"date\"]\n",
    "    dates = dates.apply( lambda x: x.strftime(\"%d-%m-%Y\") )\n",
    "    dates = dates.value_counts()\n",
    "    return dates[:10]"
   ]
  },
  {
   "cell_type": "markdown",
   "metadata": {},
   "source": [
    "### P4"
   ]
  },
  {
   "cell_type": "code",
   "execution_count": null,
   "metadata": {},
   "outputs": [],
   "source": [
    "def top_10_hashtags(data):\n",
    "    all_hashtags = []\n",
    "\n",
    "    for content in data[\"content\"]:\n",
    "        all_hashtags += re.findall('#[a-zA-Z0-9_]{1,}', content)\n",
    "        \n",
    "    new_table = pd.DataFrame( data = { \"hashtag\":all_hashtags} )\n",
    "\n",
    "    return new_table.value_counts()[:10]"
   ]
  },
  {
   "cell_type": "markdown",
   "metadata": {},
   "source": [
    "### Main"
   ]
  },
  {
   "cell_type": "code",
   "execution_count": null,
   "metadata": {},
   "outputs": [],
   "source": [
    "def main():\n",
    "    opciones = {\n",
    "    1: tweets_mas_retweeteados,\n",
    "    2: top_10_users,\n",
    "    3: top_10_days\n",
    "    4: top_10_hashtags\n",
    "    }\n",
    "    print(\"\"\"\n",
    "    ¿Qué información quieres ver?\n",
    "    1. Los top 10 tweets más retweeted\n",
    "    2. Los top 10 usuarios en función a la cantidad de tweets que emitieron.\n",
    "    3. Los top 10 días donde hay más tweets.\n",
    "    4. Top 10 hashtags más usados.\n",
    "    0. Terminar programa\n",
    "    \"\"\")\n",
    "    inp = input()\n",
    "\n",
    "    if not inp.isnumeric():\n",
    "        print(\"ingreso inválido, debe ser un número\") \n",
    "        \n",
    "    elif int(inp) in opciones:\n",
    "        display( opciones[int(inp)](data) )\n",
    "\n",
    "if __name__ == \"__main__\":\n",
    "    main()"
   ]
  }
 ],
 "metadata": {
  "colab": {
   "collapsed_sections": [],
   "name": "Untitled0.ipynb",
   "provenance": []
  },
  "kernelspec": {
   "display_name": "Python 3",
   "language": "python",
   "name": "python3"
  },
  "language_info": {
   "codemirror_mode": {
    "name": "ipython",
    "version": 3
   },
   "file_extension": ".py",
   "mimetype": "text/x-python",
   "name": "python",
   "nbconvert_exporter": "python",
   "pygments_lexer": "ipython3",
   "version": "3.7.9"
  }
 },
 "nbformat": 4,
 "nbformat_minor": 1
}
